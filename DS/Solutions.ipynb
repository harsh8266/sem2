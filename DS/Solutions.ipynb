{
 "cells": [
  {
   "cell_type": "markdown",
   "id": "bbe95274",
   "metadata": {},
   "source": [
    "Write a python code to perform following operation on circular linked list.\n",
    "a)Creation() b)Traversal()"
   ]
  },
  {
   "cell_type": "code",
   "execution_count": 2,
   "id": "76ad2952",
   "metadata": {},
   "outputs": [
    {
     "name": "stdout",
     "output_type": "stream",
     "text": [
      "Nodes of the circular linked list:\n",
      "1 \n",
      "2 \n",
      "3 "
     ]
    }
   ],
   "source": [
    "class Node:\n",
    "    def __init__(self, data):\n",
    "        self.data = data\n",
    "        self.next = None\n",
    "\n",
    "class CircularLinkedList:\n",
    "    def __init__(self):\n",
    "        self.head = None\n",
    "\n",
    "    def insert(self, data):\n",
    "        new_node = Node(data)\n",
    "        if self.head is None:\n",
    "            self.head = new_node\n",
    "            self.head.next = self.head\n",
    "        else:\n",
    "            current = self.head\n",
    "            while current.next != self.head:\n",
    "                current = current.next\n",
    "            current.next = new_node\n",
    "            new_node.next = self.head\n",
    "\n",
    "    def traverse(self):\n",
    "        if self.head is None:\n",
    "            print(\"Circular linked list is empty!\")\n",
    "            return\n",
    "        current = self.head\n",
    "        print(\"Nodes of the circular linked list:\")\n",
    "        while True:\n",
    "            print(current.data, end=\" \")\n",
    "            current = current.next\n",
    "            if current == self.head:\n",
    "                break\n",
    "            print()\n",
    "\n",
    "cll = CircularLinkedList()\n",
    "\n",
    "cll.insert(1)\n",
    "cll.insert(2)\n",
    "cll.insert(3)\n",
    "\n",
    "cll.traverse()"
   ]
  },
  {
   "cell_type": "markdown",
   "id": "260198aa",
   "metadata": {},
   "source": [
    "Static Implementation of Stack"
   ]
  },
  {
   "cell_type": "code",
   "execution_count": 3,
   "id": "cf3b25c3",
   "metadata": {},
   "outputs": [
    {
     "name": "stdout",
     "output_type": "stream",
     "text": [
      "Stack overflow error!\n",
      "5\n",
      "4\n",
      "3\n"
     ]
    }
   ],
   "source": [
    "class Stack:\n",
    "    def __init__(self, max_size):\n",
    "        self.stack = [None] * max_size\n",
    "        self.top = -1\n",
    "        self.max_size = max_size\n",
    "\n",
    "    def push(self, data):\n",
    "        if self.top == self.max_size - 1:\n",
    "            print(\"Stack overflow error!\")\n",
    "            return\n",
    "        self.top += 1\n",
    "        self.stack[self.top] = data\n",
    "\n",
    "    def pop(self):\n",
    "        if self.top == -1:\n",
    "            print(\"Stack underflow error!\")\n",
    "            return\n",
    "        data = self.stack[self.top]\n",
    "        self.top -= 1\n",
    "        return data\n",
    "\n",
    "    def peek(self):\n",
    "        if self.top == -1:\n",
    "            print(\"Stack is empty!\")\n",
    "            return\n",
    "        return self.stack[self.top]\n",
    "\n",
    "stack = Stack(5)\n",
    "\n",
    "stack.push(1)\n",
    "stack.push(2)\n",
    "stack.push(3)\n",
    "stack.push(4)\n",
    "stack.push(5)\n",
    "stack.push(6)\n",
    "\n",
    "print(stack.pop())\n",
    "print(stack.pop())\n",
    "\n",
    "print(stack.peek())"
   ]
  },
  {
   "cell_type": "markdown",
   "id": "5ef4b563",
   "metadata": {},
   "source": [
    "Dynamic Implementation of Stack"
   ]
  },
  {
   "cell_type": "code",
   "execution_count": 5,
   "id": "0fae71d9",
   "metadata": {},
   "outputs": [
    {
     "name": "stdout",
     "output_type": "stream",
     "text": [
      "6\n",
      "5\n",
      "4\n"
     ]
    }
   ],
   "source": [
    "class Node:\n",
    "    def __init__(self, data):\n",
    "        self.data = data\n",
    "        self.next = None\n",
    "\n",
    "class Stack:\n",
    "    def __init__(self):\n",
    "        self.top = None\n",
    "\n",
    "    def push(self, data):\n",
    "        new_node = Node(data)\n",
    "        new_node.next = self.top\n",
    "        self.top = new_node\n",
    "\n",
    "    def pop(self):\n",
    "        if self.top is None:\n",
    "            print(\"Stack underflow error!\")\n",
    "            return\n",
    "        data = self.top.data\n",
    "        self.top = self.top.next\n",
    "        return data\n",
    "\n",
    "    def peek(self):\n",
    "        if self.top is None:\n",
    "            print(\"Stack is empty!\")\n",
    "            return\n",
    "        return self.top.data\n",
    "\n",
    "stack = Stack()\n",
    "\n",
    "stack.push(1)\n",
    "stack.push(2)\n",
    "stack.push(3)\n",
    "stack.push(4)\n",
    "stack.push(5)\n",
    "stack.push(6)\n",
    "\n",
    "print(stack.pop())\n",
    "print(stack.pop())\n",
    "print(stack.peek())"
   ]
  },
  {
   "cell_type": "markdown",
   "id": "afdb276b",
   "metadata": {},
   "source": [
    "Static Implementation of Queue"
   ]
  },
  {
   "cell_type": "code",
   "execution_count": 8,
   "id": "666ee40c",
   "metadata": {},
   "outputs": [
    {
     "name": "stdout",
     "output_type": "stream",
     "text": [
      "Queue overflow error!\n",
      "1\n",
      "2\n",
      "3\n"
     ]
    }
   ],
   "source": [
    "class Queue:\n",
    "    def __init__(self, max_size):\n",
    "        self.queue = [None] * max_size\n",
    "        self.front = 0\n",
    "        self.rear = -1\n",
    "        self.max_size = max_size\n",
    "\n",
    "    def enqueue(self, data):\n",
    "        if self.rear == self.max_size - 1:\n",
    "            print(\"Queue overflow error!\")\n",
    "            return\n",
    "        self.rear += 1\n",
    "        self.queue[self.rear] = data\n",
    "\n",
    "    def dequeue(self):\n",
    "        if self.front > self.rear:\n",
    "            print(\"Queue underflow error!\")\n",
    "            return\n",
    "        data = self.queue[self.front]\n",
    "        self.front += 1\n",
    "        return data\n",
    "\n",
    "    def peek(self):\n",
    "        if self.front > self.rear:\n",
    "            print(\"Queue is empty!\")\n",
    "            return\n",
    "        return self.queue[self.front]\n",
    "\n",
    "queue = Queue(5)\n",
    "\n",
    "queue.enqueue(1)\n",
    "queue.enqueue(2)\n",
    "queue.enqueue(3)\n",
    "queue.enqueue(4)\n",
    "queue.enqueue(5)\n",
    "queue.enqueue(6)\n",
    "\n",
    "print(queue.dequeue())\n",
    "print(queue.dequeue())\n",
    "print(queue.peek())"
   ]
  },
  {
   "cell_type": "markdown",
   "id": "0b9ecc4d",
   "metadata": {},
   "source": [
    "Dynamic Implementation"
   ]
  },
  {
   "cell_type": "code",
   "execution_count": 11,
   "id": "aab47d8f",
   "metadata": {},
   "outputs": [
    {
     "name": "stdout",
     "output_type": "stream",
     "text": [
      "1\n",
      "2\n",
      "3\n"
     ]
    }
   ],
   "source": [
    "class Node:\n",
    "    def __init__(self, data):\n",
    "        self.data = data\n",
    "        self.next = None\n",
    "\n",
    "class Queue:\n",
    "    def __init__(self):\n",
    "        self.front = None\n",
    "        self.rear = None\n",
    "\n",
    "    def enqueue(self, data):\n",
    "        new_node = Node(data)\n",
    "        if self.rear is None:\n",
    "            self.front = new_node\n",
    "            self.rear = new_node\n",
    "        else:\n",
    "            self.rear.next = new_node\n",
    "            self.rear = new_node\n",
    "\n",
    "    def dequeue(self):\n",
    "        if self.front is None:\n",
    "            print(\"Queue underflow error!\")\n",
    "            return\n",
    "        data = self.front.data\n",
    "        self.front = self.front.next\n",
    "        if self.front is None:\n",
    "            self.rear = None\n",
    "        return data\n",
    "\n",
    "    def peek(self):\n",
    "        if self.front is None:\n",
    "            print(\"Queue is empty!\")\n",
    "            return\n",
    "        return self.front.data\n",
    "\n",
    "queue = Queue()\n",
    "\n",
    "queue.enqueue(1)\n",
    "queue.enqueue(2)\n",
    "queue.enqueue(3)\n",
    "queue.enqueue(4)\n",
    "queue.enqueue(5)\n",
    "queue.enqueue(6)\n",
    "\n",
    "print(queue.dequeue())\n",
    "print(queue.dequeue())\n",
    "print(queue.peek())"
   ]
  },
  {
   "cell_type": "markdown",
   "id": "91e95266",
   "metadata": {},
   "source": [
    "1. Write a python code to create a single node in a binary search Tree."
   ]
  },
  {
   "cell_type": "code",
   "execution_count": 12,
   "id": "dc01744c",
   "metadata": {},
   "outputs": [],
   "source": [
    "class Node:\n",
    "    def __init__(self, data):\n",
    "        self.data = data\n",
    "        self.left = None\n",
    "        self.right = None\n",
    "node = Node(5)"
   ]
  },
  {
   "cell_type": "markdown",
   "id": "f4a6e4fb",
   "metadata": {},
   "source": [
    "2. Write a python code to insert more than one node in to a binary search tree."
   ]
  },
  {
   "cell_type": "code",
   "execution_count": 17,
   "id": "23c82ef5",
   "metadata": {},
   "outputs": [],
   "source": [
    "class Node:\n",
    "    def __init__(self, data):\n",
    "        self.left = None\n",
    "        self.right = None\n",
    "        self.data = data\n",
    "\n",
    "def insert_node(root, data):\n",
    "    if root is None:\n",
    "        return Node(data)\n",
    "    else:\n",
    "        if data < root.data:\n",
    "            root.left = insert_node(root.left, data)\n",
    "        else:\n",
    "            root.right = insert_node(root.right, data)\n",
    "        return root\n",
    "\n",
    "root = None\n",
    "root = insert_node(root, 5)\n",
    "root = insert_node(root, 3)\n",
    "root = insert_node(root, 6)\n",
    "root = insert_node(root, 1)\n",
    "root = insert_node(root, 9)"
   ]
  },
  {
   "cell_type": "markdown",
   "id": "2c7f5d57",
   "metadata": {},
   "source": [
    "3. Write a python code to perform In-order binary search Tree Traversal."
   ]
  },
  {
   "cell_type": "code",
   "execution_count": 14,
   "id": "c9a0ad5b",
   "metadata": {},
   "outputs": [
    {
     "name": "stdout",
     "output_type": "stream",
     "text": [
      "1\n",
      "3\n",
      "5\n",
      "7\n",
      "9\n"
     ]
    }
   ],
   "source": [
    "class Node:\n",
    "    def __init__(self, data):\n",
    "        self.left = None\n",
    "        self.right = None\n",
    "        self.data = data\n",
    "\n",
    "def inorder(node):\n",
    "    if node is not None:\n",
    "        inorder(node.left)\n",
    "        print(node.data)\n",
    "        inorder(node.right)\n",
    "\n",
    "root = Node(5)\n",
    "root.left = Node(3)\n",
    "root.right = Node(7)\n",
    "root.left.left = Node(1)\n",
    "root.right.right = Node(9)\n",
    "inorder(root)"
   ]
  },
  {
   "cell_type": "markdown",
   "id": "28e68ab4",
   "metadata": {},
   "source": [
    "4. Write a python code to perform Pre-order binary search Tree Traversal."
   ]
  },
  {
   "cell_type": "code",
   "execution_count": 15,
   "id": "6448c13e",
   "metadata": {},
   "outputs": [
    {
     "name": "stdout",
     "output_type": "stream",
     "text": [
      "5\n",
      "3\n",
      "1\n",
      "7\n",
      "9\n"
     ]
    }
   ],
   "source": [
    "class Node:\n",
    "    def __init__(self, data):\n",
    "        self.left = None\n",
    "        self.right = None\n",
    "        self.data = data\n",
    "\n",
    "def preorder(node):\n",
    "    if node is not None:\n",
    "        print(node.data)\n",
    "        preorder(node.left)\n",
    "        preorder(node.right)\n",
    "\n",
    "root = Node(5)\n",
    "root.left = Node(3)\n",
    "root.right = Node(7)\n",
    "root.left.left = Node(1)\n",
    "root.right.right = Node(9)\n",
    "preorder(root)"
   ]
  },
  {
   "cell_type": "markdown",
   "id": "c6e4bda2",
   "metadata": {},
   "source": [
    "5. Write a python code to perform Post- order binary search Tree Traversal."
   ]
  },
  {
   "cell_type": "code",
   "execution_count": 16,
   "id": "83fe4c1c",
   "metadata": {},
   "outputs": [
    {
     "name": "stdout",
     "output_type": "stream",
     "text": [
      "1\n",
      "3\n",
      "9\n",
      "7\n",
      "5\n"
     ]
    }
   ],
   "source": [
    "class Node:\n",
    "    def __init__(self, data):\n",
    "        self.left = None\n",
    "        self.right = None\n",
    "        self.data = data\n",
    "\n",
    "def postorder(node):\n",
    "    if node is not None:\n",
    "        postorder(node.left)\n",
    "        postorder(node.right)\n",
    "        print(node.data)\n",
    "\n",
    "root = Node(5)\n",
    "root.left = Node(3)\n",
    "root.right = Node(7)\n",
    "root.left.left = Node(1)\n",
    "root.right.right = Node(9)\n",
    "\n",
    "postorder(root)"
   ]
  }
 ],
 "metadata": {
  "kernelspec": {
   "display_name": "Python 3 (ipykernel)",
   "language": "python",
   "name": "python3"
  },
  "language_info": {
   "codemirror_mode": {
    "name": "ipython",
    "version": 3
   },
   "file_extension": ".py",
   "mimetype": "text/x-python",
   "name": "python",
   "nbconvert_exporter": "python",
   "pygments_lexer": "ipython3",
   "version": "3.10.9"
  }
 },
 "nbformat": 4,
 "nbformat_minor": 5
}
