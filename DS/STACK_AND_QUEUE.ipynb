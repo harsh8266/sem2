{
  "nbformat": 4,
  "nbformat_minor": 0,
  "metadata": {
    "colab": {
      "provenance": [],
      "authorship_tag": "ABX9TyO4KFcOsrz9i5OxHBPAW/FL",
      "include_colab_link": true
    },
    "kernelspec": {
      "name": "python3",
      "display_name": "Python 3"
    },
    "language_info": {
      "name": "python"
    }
  },
  "cells": [
    {
      "cell_type": "markdown",
      "metadata": {
        "id": "view-in-github",
        "colab_type": "text"
      },
      "source": [
        "<a href=\"https://colab.research.google.com/github/yaglewad-onkar/sem2/blob/main/DS/STACK_AND_QUEUE.ipynb\" target=\"_parent\"><img src=\"https://colab.research.google.com/assets/colab-badge.svg\" alt=\"Open In Colab\"/></a>"
      ]
    },
    {
      "cell_type": "markdown",
      "source": [
        "**STACK**"
      ],
      "metadata": {
        "id": "EQo7IR6jm49S"
      }
    },
    {
      "cell_type": "code",
      "execution_count": null,
      "metadata": {
        "id": "glfyPA5kmtLb"
      },
      "outputs": [],
      "source": [
        "class Stack:\n",
        "    def __init__(self):\n",
        "        self.items = []\n",
        "\n",
        "    def push(self, item):\n",
        "        self.items.append(item)\n",
        "\n",
        "    def pop(self):\n",
        "        return self.items.pop()\n",
        "\n",
        "    def peek(self):\n",
        "        return self.items[len(self.items)-1]\n",
        "\n",
        "    def is_empty(self):\n",
        "        return len(self.items) == 0\n",
        "\n",
        "    def size(self):\n",
        "        return len(self.items)\n",
        "\n",
        "stack = Stack()\n",
        "stack.push(1)\n",
        "stack.push(2)\n",
        "stack.push(3)\n",
        "print(stack.pop()) # Output: 3\n",
        "print(stack.peek()) # Output: 2\n",
        "print(stack.is_empty()) # Output: False\n",
        "print(stack.size()) # Output: 2"
      ]
    },
    {
      "cell_type": "markdown",
      "source": [
        "**QUEUE**"
      ],
      "metadata": {
        "id": "URppkq7qm7ed"
      }
    },
    {
      "cell_type": "code",
      "source": [
        "class Queue:\n",
        "    def __init__(self):\n",
        "        self.items = []\n",
        "\n",
        "    def enqueue(self, item):\n",
        "        self.items.append(item)\n",
        "\n",
        "    def dequeue(self):\n",
        "        return self.items.pop(0)\n",
        "\n",
        "    def is_empty(self):\n",
        "        return len(self.items) == 0\n",
        "\n",
        "    def size(self):\n",
        "        return len(self.items)\n",
        "\n",
        "queue = Queue()\n",
        "queue.enqueue(1)\n",
        "queue.enqueue(2)\n",
        "queue.enqueue(3)\n",
        "print(queue.dequeue()) # Output: 1\n",
        "print(queue.is_empty()) # Output: False\n",
        "print(queue.size()) # Output: 2"
      ],
      "metadata": {
        "id": "6DK5WjOMm89T"
      },
      "execution_count": null,
      "outputs": []
    }
  ]
}