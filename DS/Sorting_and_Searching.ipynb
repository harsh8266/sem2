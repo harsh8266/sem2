{
  "nbformat": 4,
  "nbformat_minor": 0,
  "metadata": {
    "colab": {
      "provenance": [],
      "authorship_tag": "ABX9TyPTBnoLyhdhLTgZM6XYhn4r",
      "include_colab_link": true
    },
    "kernelspec": {
      "name": "python3",
      "display_name": "Python 3"
    },
    "language_info": {
      "name": "python"
    }
  },
  "cells": [
    {
      "cell_type": "markdown",
      "metadata": {
        "id": "view-in-github",
        "colab_type": "text"
      },
      "source": [
        "<a href=\"https://colab.research.google.com/github/yaglewad-onkar/sem2/blob/main/Sorting_and_Searching.ipynb\" target=\"_parent\"><img src=\"https://colab.research.google.com/assets/colab-badge.svg\" alt=\"Open In Colab\"/></a>"
      ]
    },
    {
      "cell_type": "markdown",
      "source": [
        "**LINEAR SEARCH**"
      ],
      "metadata": {
        "id": "kt6pgOCyfHhC"
      }
    },
    {
      "cell_type": "code",
      "execution_count": null,
      "metadata": {
        "id": "NiIwwgllesHZ"
      },
      "outputs": [],
      "source": [
        "def linear_search(arr, x):\n",
        "    for i in range(len(arr)):\n",
        "        if arr[i] == x:\n",
        "            return i\n",
        "    return -1\n",
        "\n",
        "# Example usage\n",
        "arr = [3, 6, 2, 8, 9, 1]\n",
        "x = 8\n",
        "result = linear_search(arr, x)\n",
        "\n",
        "if result == -1:\n",
        "    print(\"Element is not present in array\")\n",
        "else:\n",
        "    print(\"Element is present at index\", result)\n"
      ]
    },
    {
      "cell_type": "markdown",
      "source": [
        "**BINARY SEARCH**"
      ],
      "metadata": {
        "id": "TpFHFQLdfMLg"
      }
    },
    {
      "cell_type": "code",
      "source": [
        "def binary_search(arr, target):\n",
        "    low = 0\n",
        "    high = len(arr) - 1\n",
        "\n",
        "    while low <= high:\n",
        "        mid = (low + high) // 2\n",
        "        if arr[mid] == target:\n",
        "            return mid\n",
        "        elif arr[mid] < target:\n",
        "            low = mid + 1\n",
        "        else:\n",
        "            high = mid - 1\n",
        "\n",
        "    return -1\n"
      ],
      "metadata": {
        "id": "6fUjrJP9fNnL"
      },
      "execution_count": null,
      "outputs": []
    },
    {
      "cell_type": "markdown",
      "source": [
        "**BUBBLE SORT**"
      ],
      "metadata": {
        "id": "0DkQkXP-fMkx"
      }
    },
    {
      "cell_type": "code",
      "source": [
        "def bubble_sort(arr):\n",
        "    n = len(arr)\n",
        "\n",
        "    # Traverse through all array elements\n",
        "    for i in range(n):\n",
        "        # Last i elements are already in place\n",
        "        for j in range(0, n-i-1):\n",
        "            # Traverse the array from 0 to n-i-1\n",
        "            # Swap if the element found is greater than the next element\n",
        "            if arr[j] > arr[j+1]:\n",
        "                arr[j], arr[j+1] = arr[j+1], arr[j]\n",
        "\n",
        "    return arr\n",
        "\n",
        "arr = [64, 34, 25, 12, 22, 11, 90]\n",
        "sorted_arr = bubble_sort(arr)\n",
        "print(sorted_arr) # Output: [11, 12, 22, 25, 34, 64, 90]"
      ],
      "metadata": {
        "id": "L0qwCuVefOK_"
      },
      "execution_count": null,
      "outputs": []
    },
    {
      "cell_type": "markdown",
      "source": [
        "**SELECTION SORT**"
      ],
      "metadata": {
        "id": "L7VPYQdFfMoJ"
      }
    },
    {
      "cell_type": "code",
      "source": [
        "def selection_sort(arr):\n",
        "    n = len(arr)\n",
        "    \n",
        "    # Traverse through all array elements\n",
        "    for i in range(n):\n",
        "        \n",
        "        # Find the minimum element in remaining \n",
        "        # unsorted array\n",
        "        min_idx = i\n",
        "        for j in range(i+1, n):\n",
        "            if arr[j] < arr[min_idx]:\n",
        "                min_idx = j\n",
        "                \n",
        "        # Swap the found minimum element with \n",
        "        # the first element\n",
        "        arr[i], arr[min_idx] = arr[min_idx], arr[i]\n",
        "    \n",
        "    return arr\n",
        "\n",
        "# Example usage\n",
        "arr = [64, 25, 12, 22, 11]\n",
        "sorted_arr = selection_sort(arr)\n",
        "print(sorted_arr) # Output: [11, 12, 22, 25, 64]\n"
      ],
      "metadata": {
        "id": "G8Js5ZsCfOjw"
      },
      "execution_count": null,
      "outputs": []
    },
    {
      "cell_type": "markdown",
      "source": [
        "**INSERTION SORT**"
      ],
      "metadata": {
        "id": "CEEWUl0MfMs0"
      }
    },
    {
      "cell_type": "code",
      "source": [
        "def insertion_sort(arr):\n",
        "    n = len(arr)\n",
        "    \n",
        "    # Traverse through 1 to len(arr)\n",
        "    for i in range(1, n):\n",
        "        key = arr[i]\n",
        "        \n",
        "        # Move elements of arr[0..i-1], that are\n",
        "        # greater than key, to one position ahead\n",
        "        # of their current position\n",
        "        j = i - 1\n",
        "        while j >= 0 and key < arr[j]:\n",
        "            arr[j+1] = arr[j]\n",
        "            j -= 1\n",
        "        arr[j+1] = key\n",
        "    \n",
        "    return arr\n",
        "\n",
        "# Example usage\n",
        "arr = [64, 25, 12, 22, 11]\n",
        "sorted_arr = insertion_sort(arr)\n",
        "print(sorted_arr) # Output: [11, 12, 22, 25, 64]\n"
      ],
      "metadata": {
        "id": "a3aTSzuhfO_E"
      },
      "execution_count": null,
      "outputs": []
    },
    {
      "cell_type": "markdown",
      "source": [
        "**MERGE SORT**"
      ],
      "metadata": {
        "id": "PBM_OJDbfMwy"
      }
    },
    {
      "cell_type": "code",
      "source": [
        "def merge_sort(arr):\n",
        "    if len(arr) > 1:\n",
        "        # Finding the mid of the array\n",
        "        mid = len(arr) // 2\n",
        "        \n",
        "        # Dividing the array elements into two halves\n",
        "        left_half = arr[:mid]\n",
        "        right_half = arr[mid:]\n",
        "        \n",
        "        # Recursive call on each half\n",
        "        merge_sort(left_half)\n",
        "        merge_sort(right_half)\n",
        "        \n",
        "        # Merge the two sorted halves\n",
        "        i = j = k = 0\n",
        "        while i < len(left_half) and j < len(right_half):\n",
        "            if left_half[i] < right_half[j]:\n",
        "                arr[k] = left_half[i]\n",
        "                i += 1\n",
        "            else:\n",
        "                arr[k] = right_half[j]\n",
        "                j += 1\n",
        "            k += 1\n",
        "        \n",
        "        # Copy the remaining elements of left_half\n",
        "        while i < len(left_half):\n",
        "            arr[k] = left_half[i]\n",
        "            i += 1\n",
        "            k += 1\n",
        "        \n",
        "        # Copy the remaining elements of right_half\n",
        "        while j < len(right_half):\n",
        "            arr[k] = right_half[j]\n",
        "            j += 1\n",
        "            k += 1\n",
        "            \n",
        "    return arr\n",
        "\n",
        "# Example usage\n",
        "arr = [64, 25, 12, 22, 11]\n",
        "sorted_arr = merge_sort(arr)\n",
        "print(sorted_arr) # Output: [11, 12, 22, 25, 64]\n"
      ],
      "metadata": {
        "id": "BoL2nkuDfPh3"
      },
      "execution_count": null,
      "outputs": []
    },
    {
      "cell_type": "markdown",
      "source": [
        "**QUICK SORT**"
      ],
      "metadata": {
        "id": "V8GRO8tnf8AF"
      }
    },
    {
      "cell_type": "code",
      "source": [
        "def quick_sort(arr, low, high):\n",
        "    if low < high:\n",
        "        # Partition the array and get the pivot index\n",
        "        pivot_idx = partition(arr, low, high)\n",
        "        \n",
        "        # Recursively call quick_sort on both sides of pivot\n",
        "        quick_sort(arr, low, pivot_idx-1)\n",
        "        quick_sort(arr, pivot_idx+1, high)\n",
        "    \n",
        "    return arr\n",
        "\n",
        "def partition(arr, low, high):\n",
        "    # Select the rightmost element as pivot\n",
        "    pivot = arr[high]\n",
        "    \n",
        "    # Initialize the pivot index as the leftmost index\n",
        "    pivot_idx = low\n",
        "    \n",
        "    # Loop through all elements in the array\n",
        "    for i in range(low, high):\n",
        "        # If the current element is smaller than or equal to the pivot,\n",
        "        # swap it with the element at the pivot index and increment the pivot index\n",
        "        if arr[i] <= pivot:\n",
        "            arr[i], arr[pivot_idx] = arr[pivot_idx], arr[i]\n",
        "            pivot_idx += 1\n",
        "    \n",
        "    # Swap the pivot with the element at the pivot index\n",
        "    arr[pivot_idx], arr[high] = arr[high], arr[pivot_idx]\n",
        "    \n",
        "    # Return the pivot index\n",
        "    return pivot_idx\n",
        "\n",
        "# Example usage\n",
        "arr = [64, 25, 12, 22, 11]\n",
        "sorted_arr = quick_sort(arr, 0, len(arr)-1)\n",
        "print(sorted_arr) # Output: [11, 12, 22, 25, 64]\n"
      ],
      "metadata": {
        "id": "n83x8A2Jf_23"
      },
      "execution_count": null,
      "outputs": []
    }
  ]
}
