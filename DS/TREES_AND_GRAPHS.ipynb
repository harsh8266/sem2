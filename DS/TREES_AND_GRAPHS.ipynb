{
  "nbformat": 4,
  "nbformat_minor": 0,
  "metadata": {
    "colab": {
      "provenance": [],
      "authorship_tag": "ABX9TyPuBtMpGFtA9bjTg+8bZxvM",
      "include_colab_link": true
    },
    "kernelspec": {
      "name": "python3",
      "display_name": "Python 3"
    },
    "language_info": {
      "name": "python"
    }
  },
  "cells": [
    {
      "cell_type": "markdown",
      "metadata": {
        "id": "view-in-github",
        "colab_type": "text"
      },
      "source": [
        "<a href=\"https://colab.research.google.com/github/yaglewad-onkar/sem2/blob/main/DS/TREES_AND_GRAPHS.ipynb\" target=\"_parent\"><img src=\"https://colab.research.google.com/assets/colab-badge.svg\" alt=\"Open In Colab\"/></a>"
      ]
    },
    {
      "cell_type": "markdown",
      "source": [
        "**BINARY SEARCH TREE**"
      ],
      "metadata": {
        "id": "NLOPjIiHowVE"
      }
    },
    {
      "cell_type": "code",
      "execution_count": null,
      "metadata": {
        "id": "CBlZpvynoqhj"
      },
      "outputs": [],
      "source": [
        "class Node:\n",
        "    def __init__(self, key):\n",
        "        self.key = key\n",
        "        self.left = None\n",
        "        self.right = None\n",
        "\n",
        "class BinarySearchTree:\n",
        "    def __init__(self):\n",
        "        self.root = None\n",
        "\n",
        "    def insert(self, key):\n",
        "        if not self.root:\n",
        "            self.root = Node(key)\n",
        "            return\n",
        "\n",
        "        curr = self.root\n",
        "\n",
        "        while True:\n",
        "            if key &lt; curr.key:\n",
        "                if curr.left:\n",
        "                    curr = curr.left\n",
        "                else:\n",
        "                    curr.left = Node(key)\n",
        "                    break\n",
        "            elif key &gt; curr.key:\n",
        "                if curr.right:\n",
        "                    curr = curr.right\n",
        "                else:\n",
        "                    curr.right = Node(key)\n",
        "                    break\n",
        "\n",
        "    def search(self, key):\n",
        "        curr = self.root\n",
        "\n",
        "        while curr:\n",
        "            if key == curr.key:\n",
        "                return True\n",
        "            elif key &lt; curr.key:\n",
        "                curr = curr.left\n",
        "            else:\n",
        "                curr = curr.right\n",
        "\n",
        "        return False"
      ]
    },
    {
      "cell_type": "markdown",
      "source": [
        "**GRAPHS**"
      ],
      "metadata": {
        "id": "8LPsangAozwZ"
      }
    },
    {
      "cell_type": "code",
      "source": [
        "class Graph:\n",
        "    def __init__(self):\n",
        "        self.graph_dict = {}\n",
        "\n",
        "    def add_node(self, node):\n",
        "        if node not in self.graph_dict:\n",
        "            self.graph_dict[node] = []\n",
        "\n",
        "    def add_edge(self, node1, node2):\n",
        "        self.add_node(node1)\n",
        "        self.add_node(node2)\n",
        "        self.graph_dict[node1].append(node2)\n",
        "        self.graph_dict[node2].append(node1)\n",
        "\n",
        "\n",
        "\n",
        "\n",
        "\n",
        "\n",
        "def dfs(graph, start, visited=None):\n",
        "    if visited is None:\n",
        "        visited = set()\n",
        "    visited.add(start)\n",
        "\n",
        "    print(start)\n",
        "\n",
        "    for next_node in graph[start]:\n",
        "        if next_node not in visited:\n",
        "            dfs(graph, next_node, visited)\n",
        "\n",
        "\n",
        "\n",
        "\n",
        "def bfs(graph, start):\n",
        "    visited = set()\n",
        "    queue = [start]\n",
        "\n",
        "    while queue:\n",
        "        node = queue.pop(0)\n",
        "\n",
        "        if node not in visited:\n",
        "            visited.add(node)\n",
        "            print(node)\n",
        "\n",
        "            for next_node in graph[node]:\n",
        "                if next_node not in visited:\n",
        "                    queue.append(next_node)\n"
      ],
      "metadata": {
        "id": "Ty1m9if6pSp8"
      },
      "execution_count": null,
      "outputs": []
    }
  ]
}